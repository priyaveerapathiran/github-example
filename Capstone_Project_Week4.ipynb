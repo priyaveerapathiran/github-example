{
 "cells": [
  {
   "cell_type": "markdown",
   "metadata": {},
   "source": [
    "# INTRODUCTION"
   ]
  },
  {
   "cell_type": "markdown",
   "metadata": {},
   "source": [
    "## Background:"
   ]
  },
  {
   "cell_type": "markdown",
   "metadata": {},
   "source": [
    "      New York is considered as financial capital of America and it is also a best place for small businesses those runs shop in Main Streets. It has five boroughs namely, Manhattan, Queens, Brooklyn, Bronx, Staten Island. New York is a best know for its tourist attractions for people of all age group like historical monuments, parks, museums, zoo etc. It is a multicultural city with wide variety of Ethnic group of people. Places like Little China, Little India lots of restaurants with variety of cuisines are evidence for its multiculturality. \n",
    "              There are many small scale business run by people in New York like jewellery, saloons, brewery, florist shops, and restaurants, which is considered as the most common business. Some restaurants serve different cuisines in one roof which is a multicuisine restaurant or with specific type of cuisine. One can see number of restaurants with variety of cuisines in every street of  New York. Some are\n"
   ]
  },
  {
   "cell_type": "markdown",
   "metadata": {},
   "source": [
    "                         Scalini Fedeli ---          Italian Restaurant\n",
    "                         Wu Hop                       Chinese Restaurant\n",
    "                         Blue Hill                       American Restaurant\n",
    "                         Tamarind Tribeca      Indian Restaurant\n",
    "                         Pongsri                        Thai Restaurant\n",
    "                         Toloache                      2Mexican Restaurant\n",
    "                         Taci’s Beity                  Multicuisine Restaurant\n",
    "\n"
   ]
  },
  {
   "cell_type": "markdown",
   "metadata": {},
   "source": [
    "## Problem:"
   ]
  },
  {
   "cell_type": "markdown",
   "metadata": {},
   "source": [
    "           A businessman wants to open a restaurant in a prime location of New York that meets people expectations for unique cuisine and quality food and inturn make a profitable business.\n",
    "           \n",
    "        A Data Scientist was recruited for initial feasibility study to analyse data and submit a report to determine the type of a restaurant to invest in. \n",
    "\n"
   ]
  },
  {
   "cell_type": "markdown",
   "metadata": {},
   "source": [
    "## Data Required: "
   ]
  },
  {
   "cell_type": "markdown",
   "metadata": {},
   "source": [
    "            Based upon the requirement, the following data’s are collected for the analysis:\n",
    "1.\tTotal number of population in New York\n",
    "2.\tDemography of the population, age group, ethnicity, etc\n",
    "3.\tNumber of restaurants\n",
    "4.\tNumber of restaurants in each cuisine\n",
    "5.\tMenus in particular restaurant type\n",
    "6.\tNumber of restaurants for each 1000 people\n",
    "7.\tPercentage of people who go faraway to have their food and people who prefer nearby restaurants\n",
    "8.\tCompetitors in that location\n",
    "9.\tOther venues like park, theatre, tourist spots etc so access of people will be more.\n",
    "10.\tEasy access to food markets and many other factors are also considered.\n",
    "\n",
    "\n"
   ]
  },
  {
   "cell_type": "code",
   "execution_count": null,
   "metadata": {},
   "outputs": [],
   "source": []
  }
 ],
 "metadata": {
  "kernelspec": {
   "display_name": "Python 3",
   "language": "python",
   "name": "python3"
  },
  "language_info": {
   "codemirror_mode": {
    "name": "ipython",
    "version": 3
   },
   "file_extension": ".py",
   "mimetype": "text/x-python",
   "name": "python",
   "nbconvert_exporter": "python",
   "pygments_lexer": "ipython3",
   "version": "3.7.1"
  }
 },
 "nbformat": 4,
 "nbformat_minor": 2
}
